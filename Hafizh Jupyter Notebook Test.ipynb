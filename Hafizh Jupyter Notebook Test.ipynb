{
    "cells": [
        {
            "metadata": {},
            "cell_type": "code",
            "source": "print(\"hello hafizh\")",
            "execution_count": 1,
            "outputs": [
                {
                    "output_type": "stream",
                    "text": "hello hafizh\n",
                    "name": "stdout"
                }
            ]
        },
        {
            "metadata": {},
            "cell_type": "code",
            "source": "a = 2\nb = 5\nsentence = str(a)+' multiplied by '+str(b)+' equals '+str(a*b)\nprint(sentence)",
            "execution_count": 3,
            "outputs": [
                {
                    "output_type": "stream",
                    "text": "2 multiplied by 5 equals 10\n",
                    "name": "stdout"
                }
            ]
        }
    ],
    "metadata": {
        "kernelspec": {
            "name": "python3",
            "display_name": "Python 3.9",
            "language": "python"
        },
        "language_info": {
            "name": "python",
            "version": "3.9.7",
            "mimetype": "text/x-python",
            "codemirror_mode": {
                "name": "ipython",
                "version": 3
            },
            "pygments_lexer": "ipython3",
            "nbconvert_exporter": "python",
            "file_extension": ".py"
        }
    },
    "nbformat": 4,
    "nbformat_minor": 1
}